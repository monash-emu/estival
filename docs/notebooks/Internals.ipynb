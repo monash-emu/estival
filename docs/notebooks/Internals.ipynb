{
 "cells": [
  {
   "cell_type": "code",
   "execution_count": null,
   "metadata": {},
   "outputs": [],
   "source": [
    "# !pip install estival"
   ]
  },
  {
   "cell_type": "code",
   "execution_count": null,
   "metadata": {},
   "outputs": [],
   "source": [
    "import numpy as np\n",
    "import pandas as pd\n",
    "from datetime import datetime\n",
    "\n",
    "from estival.model import BayesianCompartmentalModel\n",
    "from estival import priors as esp\n",
    "from estival import targets as est"
   ]
  },
  {
   "cell_type": "markdown",
   "metadata": {},
   "source": [
    "## Priors\n",
    "\n",
    "Priors are simple!  They have a name, a distribution (based on their class), and some\n",
    "parameters appropriate to the distribution"
   ]
  },
  {
   "cell_type": "code",
   "execution_count": null,
   "metadata": {},
   "outputs": [],
   "source": [
    "p_uniform = esp.UniformPrior(\"p_uniform\", [0.0, 1.0])\n",
    "p_truncnormal = esp.TruncNormalPrior(\"p_truncnormal\", mean=1.0, stdev=1.0, trunc_range=[0.0,np.inf])"
   ]
  },
  {
   "cell_type": "code",
   "execution_count": null,
   "metadata": {},
   "outputs": [],
   "source": [
    "# Priors expose various internal information, but always provide 2 basic functions\n",
    "\n",
    "# ppf - prior probability function; the value at a given quantile, for converting from uniform\n",
    "#       to probability space\n",
    "\n",
    "p_uniform.ppf(np.linspace(0.0,1.0,10))"
   ]
  },
  {
   "cell_type": "markdown",
   "metadata": {},
   "source": []
  },
  {
   "cell_type": "code",
   "execution_count": null,
   "metadata": {},
   "outputs": [],
   "source": [
    "# Note that if we specify a prior with unbounded support, this will produce infinities as expected...\n",
    "# care must be taken when sampling\n",
    "p_truncnormal.ppf(np.linspace(0.0,1.0,10))"
   ]
  },
  {
   "cell_type": "code",
   "execution_count": null,
   "metadata": {},
   "outputs": [],
   "source": [
    "# The bounds method takes a confidence interval, useful for clamping or setting sampling ranges\n",
    "\n",
    "p_truncnormal.bounds(0.98)"
   ]
  },
  {
   "cell_type": "code",
   "execution_count": null,
   "metadata": {},
   "outputs": [],
   "source": [
    "# logpdf - ...the logpdf\n",
    "\n",
    "# Uniform... not very interesting\n",
    "p_uniform.logpdf(0.5)"
   ]
  },
  {
   "cell_type": "code",
   "execution_count": null,
   "metadata": {},
   "outputs": [],
   "source": [
    "# Plot the logpdf over a 95% ci\n",
    "x = p_truncnormal.ppf(np.linspace(0.025,0.975,100))\n",
    "pd.Series(p_truncnormal.logpdf(x), x).plot()"
   ]
  },
  {
   "cell_type": "markdown",
   "metadata": {},
   "source": [
    "## Targets"
   ]
  },
  {
   "cell_type": "code",
   "execution_count": null,
   "metadata": {},
   "outputs": [],
   "source": [
    "# Create some synthetic data\n",
    "\n",
    "# First create a full date index, covering the complete domain of our 'model' (ie the domain of the data that\n",
    "# will be passed to TargetEvaluators when we come to compute likelihood)\n",
    "# In practice, when using BayesianCompartmenalModel, this will be obtained from the summer2 CompartmentalModel\n",
    "full_date_index = pd.date_range(datetime(2001,1,1),datetime(2002,12,31),freq='d')\n",
    "\n",
    "# Some random data\n",
    "full_data = np.random.normal(size=len(full_date_index))\n",
    "\n",
    "# Construct a pandas Series - estival is 'pandas native' and uses its types extensively\n",
    "s = pd.Series(full_data, full_date_index)\n",
    "\n",
    "# Now select a subset for use in our target - the kind of sparse gappy data that we might find in a real dataset\n",
    "s_subset = s.iloc[::60]\n",
    "\n",
    "s_subset.plot(style='.')"
   ]
  },
  {
   "cell_type": "code",
   "execution_count": null,
   "metadata": {},
   "outputs": [],
   "source": [
    "# Construct the target\n",
    "t = est.NormalTarget(\"test\", s_subset, 1.0)"
   ]
  },
  {
   "cell_type": "code",
   "execution_count": null,
   "metadata": {},
   "outputs": [],
   "source": [
    "# Import the Epoch class\n",
    "# This is used anywhere we want to convert from numerical 'model time' to datetime\n",
    "\n",
    "from summer2.utils import Epoch"
   ]
  },
  {
   "cell_type": "code",
   "execution_count": null,
   "metadata": {},
   "outputs": [],
   "source": [
    "# Epochs take a single 'ref_date' (0.0 in model time), and an optional frequency argument; default is 1 day\n",
    "epoch = Epoch(full_date_index[0])\n",
    "epoch"
   ]
  },
  {
   "cell_type": "code",
   "execution_count": null,
   "metadata": {},
   "outputs": [],
   "source": [
    "# Example usage\n",
    "epoch.dti_to_index(s_subset.index)"
   ]
  },
  {
   "cell_type": "code",
   "execution_count": null,
   "metadata": {},
   "outputs": [],
   "source": [
    "# When a BayesianCompartmenalModel is constructed, it will obtain the Epoch from the summer2 model,\n",
    "# and then build evaluators for each of its targets\n",
    "# This building step means all the subsetting logic (and any other possible pre-compuation)\n",
    "# only needs to happen once, at the time of creation\n",
    "\n",
    "teval = t.get_evaluator(full_date_index, epoch)"
   ]
  },
  {
   "cell_type": "code",
   "execution_count": null,
   "metadata": {},
   "outputs": [],
   "source": [
    "# What if we didn't supply an epoch?\n",
    "\n",
    "# t.get_evaluator(full_date_index, None)"
   ]
  },
  {
   "cell_type": "code",
   "execution_count": null,
   "metadata": {},
   "outputs": [],
   "source": [
    "teval.index, teval.data"
   ]
  },
  {
   "cell_type": "code",
   "execution_count": null,
   "metadata": {},
   "outputs": [],
   "source": [
    "# This is what gets called when a BayesianCompartmentalModel is asked to calculate a likelihood\n",
    "# It takes the modelled data as input (over the full input domain), and handles the indexing etc internally\n",
    "# Note the second parameters argument - it's empty for this target\n",
    "teval.evaluate(full_data, {})"
   ]
  },
  {
   "cell_type": "code",
   "execution_count": null,
   "metadata": {},
   "outputs": [],
   "source": [
    "# Construct a target with a dispersion parameter\n",
    "t_dispersed = est.NormalTarget(\"test_dispersed\", s_subset, esp.UniformPrior(\"dispersion_param\", [0.01,1.0]))"
   ]
  },
  {
   "cell_type": "code",
   "execution_count": null,
   "metadata": {},
   "outputs": [],
   "source": [
    "# Note that this new target now returns its dispersion parameter in get_priors;\n",
    "# The BayesianCompartmentalModel obtains the full list of priors at the time of construction,\n",
    "# so that these are always included in sampling\n",
    "t_dispersed.get_priors()"
   ]
  },
  {
   "cell_type": "code",
   "execution_count": null,
   "metadata": {},
   "outputs": [],
   "source": [
    "tdisp_eval = t_dispersed.get_evaluator(full_date_index, epoch)"
   ]
  },
  {
   "cell_type": "code",
   "execution_count": null,
   "metadata": {},
   "outputs": [],
   "source": [
    "# When an external wrapper samples from a BayesianCompartmentalModel, it will use\n",
    "# the full priors list, and sampled priors will be passed through to the evaluators\n",
    "# as parameters \n",
    "\n",
    "tdisp_eval.evaluate(full_data + 0.1, {\"dispersion_param\": 0.1})"
   ]
  },
  {
   "cell_type": "markdown",
   "metadata": {},
   "source": [
    "## BayesianCompartmentalModel\n",
    "\n",
    "This is where it all comes together - the bridge between a summer2 model and the priors/targets we have described above"
   ]
  },
  {
   "cell_type": "code",
   "execution_count": null,
   "metadata": {},
   "outputs": [],
   "source": [
    "from summer2.extras.test_models import sir"
   ]
  },
  {
   "cell_type": "code",
   "execution_count": null,
   "metadata": {},
   "outputs": [],
   "source": [
    "m = sir()"
   ]
  },
  {
   "cell_type": "code",
   "execution_count": null,
   "metadata": {},
   "outputs": [],
   "source": [
    "parameters = m.get_default_parameters()\n",
    "parameters"
   ]
  },
  {
   "cell_type": "code",
   "execution_count": null,
   "metadata": {},
   "outputs": [],
   "source": [
    "m.run(parameters)\n",
    "m.get_derived_outputs_df().plot()"
   ]
  },
  {
   "cell_type": "code",
   "execution_count": null,
   "metadata": {},
   "outputs": [],
   "source": [
    "notif_data_raw = m.get_derived_outputs_df()[\"notifications\"].to_numpy()\n",
    "notif_series = m.get_derived_outputs_df()[\"notifications\"].iloc[:40:5]"
   ]
  },
  {
   "cell_type": "code",
   "execution_count": null,
   "metadata": {},
   "outputs": [],
   "source": [
    "targets = [\n",
    "    est.TruncatedNormalTarget(\"notifications\", notif_series, [0.0, np.inf], esp.UniformPrior(\"notif_dispersion\", [0.01,10.0]))\n",
    "]"
   ]
  },
  {
   "cell_type": "code",
   "execution_count": null,
   "metadata": {},
   "outputs": [],
   "source": [
    "priors = [\n",
    "    esp.UniformPrior(\"contact_rate\", [0.2,0.8])\n",
    "]"
   ]
  },
  {
   "cell_type": "code",
   "execution_count": null,
   "metadata": {},
   "outputs": [],
   "source": [
    "bcm = BayesianCompartmentalModel(m, parameters, priors, targets)"
   ]
  },
  {
   "cell_type": "code",
   "execution_count": null,
   "metadata": {},
   "outputs": [],
   "source": [
    "# Priors\n",
    "bcm.priors"
   ]
  },
  {
   "cell_type": "code",
   "execution_count": null,
   "metadata": {},
   "outputs": [],
   "source": [
    "# Targets\n",
    "bcm.targets"
   ]
  },
  {
   "cell_type": "code",
   "execution_count": null,
   "metadata": {},
   "outputs": [],
   "source": [
    "# TargetEvaluators are created for us\n",
    "bcm._evaluators[\"notifications\"](notif_data_raw, {\"notif_dispersion\": 0.1})"
   ]
  },
  {
   "cell_type": "code",
   "execution_count": null,
   "metadata": {},
   "outputs": [],
   "source": [
    "# Priors supply their logpdf...\n",
    "\n",
    "bcm.priors[\"contact_rate\"].logpdf(parameters[\"contact_rate\"]) + bcm.priors[\"notif_dispersion\"].logpdf(0.1)"
   ]
  },
  {
   "cell_type": "code",
   "execution_count": null,
   "metadata": {},
   "outputs": [],
   "source": [
    "#...and the BayesianCompartmentalModel combines these...\n",
    "\n",
    "bcm.run(parameters | {\"notif_dispersion\": 0.1}, include_extras=True).extras"
   ]
  },
  {
   "cell_type": "code",
   "execution_count": null,
   "metadata": {},
   "outputs": [],
   "source": [
    "bcm.run(parameters | {\"contact_rate\": 0.5} | {\"notif_dispersion\": 0.1}, include_extras=True).extras"
   ]
  },
  {
   "cell_type": "code",
   "execution_count": null,
   "metadata": {},
   "outputs": [],
   "source": [
    "bcm.run(parameters | {\"contact_rate\": 0.5} | {\"notif_dispersion\": 10.0}, include_extras=True).extras"
   ]
  }
 ],
 "metadata": {
  "kernelspec": {
   "display_name": "jax310",
   "language": "python",
   "name": "python3"
  },
  "language_info": {
   "codemirror_mode": {
    "name": "ipython",
    "version": 3
   },
   "file_extension": ".py",
   "mimetype": "text/x-python",
   "name": "python",
   "nbconvert_exporter": "python",
   "pygments_lexer": "ipython3",
   "version": "3.10.10"
  },
  "orig_nbformat": 4
 },
 "nbformat": 4,
 "nbformat_minor": 2
}
