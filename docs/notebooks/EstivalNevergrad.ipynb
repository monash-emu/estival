{
 "cells": [
  {
   "attachments": {},
   "cell_type": "markdown",
   "id": "c847bc9f",
   "metadata": {},
   "source": [
    "# Estival/Nevergrad\n",
    "\n",
    "Estival wraps summer2 models along with associated data and parameter information, for use in a variety of calibration and optimization contexts"
   ]
  },
  {
   "cell_type": "code",
   "execution_count": null,
   "id": "c51390c1",
   "metadata": {},
   "outputs": [],
   "source": [
    "# Uncomment to install in colab\n",
    "#!pip install estival==0.3.0"
   ]
  },
  {
   "cell_type": "code",
   "execution_count": null,
   "id": "ec84ff22",
   "metadata": {},
   "outputs": [],
   "source": [
    "import summer2\n",
    "import numpy as np\n",
    "import pandas as pd"
   ]
  },
  {
   "cell_type": "code",
   "execution_count": null,
   "id": "3d790a00",
   "metadata": {},
   "outputs": [],
   "source": [
    "from summer2.extras import test_models"
   ]
  },
  {
   "cell_type": "code",
   "execution_count": null,
   "id": "3d46f778",
   "metadata": {},
   "outputs": [],
   "source": [
    "m = test_models.sir()\n",
    "defp = m.get_default_parameters()\n",
    "defp"
   ]
  },
  {
   "cell_type": "code",
   "execution_count": null,
   "id": "4f0844c7",
   "metadata": {},
   "outputs": [],
   "source": [
    "m.run()\n",
    "m.get_outputs_df().plot();"
   ]
  },
  {
   "cell_type": "code",
   "execution_count": null,
   "id": "a1bde71b",
   "metadata": {},
   "outputs": [],
   "source": [
    "# Now let's construct some noisy data to fit to\n",
    "\n",
    "target_params = {\"contact_rate\": 0.5, \"recovery_rate\": 0.4}\n",
    "\n",
    "m.run(target_params)\n",
    "do_def = m.get_derived_outputs_df()\n",
    "obs_clean = do_def[\"incidence\"].iloc[0:50]\n",
    "obs_noisy = obs_clean * np.exp(np.random.normal(0.0,0.2,len(obs_clean)))\n",
    "obs_clean.plot()\n",
    "obs_noisy.plot(style='.');"
   ]
  },
  {
   "cell_type": "code",
   "execution_count": null,
   "id": "7728c17b",
   "metadata": {},
   "outputs": [],
   "source": [
    "# The following imports are the 'building blocks' of estival models\n",
    "\n",
    "# Targets represent data we are trying to fit to\n",
    "from estival import targets as est\n",
    "\n",
    "# We specify parameters using (Bayesian) priors\n",
    "from estival import priors as esp\n",
    "\n",
    "# Finally we combine these with our summer2 model in a BayesianCompartmentalModel (BCM)\n",
    "from estival.model import BayesianCompartmentalModel"
   ]
  },
  {
   "attachments": {},
   "cell_type": "markdown",
   "id": "6967cdca",
   "metadata": {},
   "source": [
    "# Nevergrad\n",
    "\n",
    "In this example, we will be using nevergrad - a gradient free optimization toolkit\n",
    "\n",
    "https://facebookresearch.github.io/nevergrad/\n",
    "\n",
    "Estival provides simple wrappers to use BayesianCompartmentalModel objects with a number of optimizers\n",
    "\n"
   ]
  },
  {
   "cell_type": "code",
   "execution_count": null,
   "id": "14bb2dce",
   "metadata": {},
   "outputs": [],
   "source": [
    "# Import nevergrad\n",
    "import nevergrad as ng\n",
    "\n",
    "# Import our convenience wrapper\n",
    "from estival.wrappers.nevergrad import optimize_model"
   ]
  },
  {
   "cell_type": "code",
   "execution_count": null,
   "id": "f24785c4",
   "metadata": {},
   "outputs": [],
   "source": [
    "# Specify a Truncated normal target with a free dispersion parameter,\n",
    "# using the noisy data we constructed earlier\n",
    "targets = [\n",
    "    est.TruncatedNormalTarget(\"incidence\", obs_noisy, (0.0,np.inf),\n",
    "        esp.UniformPrior(\"incidence_dispersion\",(0.1, obs_noisy.max()*0.1)))\n",
    "]"
   ]
  },
  {
   "cell_type": "code",
   "execution_count": null,
   "id": "29170d19",
   "metadata": {},
   "outputs": [],
   "source": [
    "# Priors over our 2 model parameters\n",
    "priors = [\n",
    "    esp.UniformPrior(\"contact_rate\", (0.01,1.0)),\n",
    "    esp.TruncNormalPrior(\"recovery_rate\", 0.5, 0.2, (0.01,1.0)),\n",
    "]"
   ]
  },
  {
   "cell_type": "code",
   "execution_count": null,
   "id": "c59e274f",
   "metadata": {},
   "outputs": [],
   "source": [
    "# The BayesianCompartmentalModel class is the primary entry point to all optimization and calibration\n",
    "# methods in estival\n",
    "# It takes a CompartmentalModel object, default parameters, priors, and targets\n",
    "# The default parameters will be used as fixed values when no prior is specified for a given parameter\n",
    "\n",
    "bcm = BayesianCompartmentalModel(m, m.get_default_parameters(), priors, targets)"
   ]
  },
  {
   "cell_type": "code",
   "execution_count": null,
   "id": "18f9d2b4",
   "metadata": {},
   "outputs": [],
   "source": [
    "# The resulting object contains all priors, including dispersion parameters, nested values etc\n",
    "bcm.priors"
   ]
  },
  {
   "cell_type": "code",
   "execution_count": null,
   "id": "765ea29f",
   "metadata": {},
   "outputs": [],
   "source": [
    "# ... and a loglikelihood evaluation function\n",
    "# This function requires values for all the bcm.priors - not just the CompartmentalModel parameters\n",
    "\n",
    "ok_params = {\"contact_rate\": 0.3, \"recovery_rate\": 0.2, \"incidence_dispersion\": 1.0}\n",
    "\n",
    "print(bcm.loglikelihood(**ok_params))\n",
    "\n",
    "bad_params = {\"contact_rate\": 0.9, \"recovery_rate\": 0.6, \"incidence_dispersion\": 1.0}\n",
    "\n",
    "print(bcm.loglikelihood(**bad_params))"
   ]
  },
  {
   "cell_type": "code",
   "execution_count": null,
   "id": "173f5eb1",
   "metadata": {},
   "outputs": [],
   "source": [
    "# It also provides a convenience method for running parameters against the specified model\n",
    "\n",
    "ax = bcm.run(ok_params).derived_outputs[\"incidence\"].plot(label=\"good\")\n",
    "bcm.run(bad_params).derived_outputs[\"incidence\"].plot(label=\"bad\")\n",
    "ax.legend();"
   ]
  },
  {
   "attachments": {},
   "cell_type": "markdown",
   "id": "de3e9ddc",
   "metadata": {},
   "source": [
    "# Using the optimizers\n",
    "\n",
    "optimize_model is the main entry point to using nevergrad optimizers.<br>\n",
    "It wraps the loglikelihood function for minimization (0.0 - loglikelihood) of the model<br>\n",
    "\n",
    "See the nevergrad documentation regarding different optimizers<br>\n",
    "https://facebookresearch.github.io/nevergrad/optimization.html#choosing-an-optimizer"
   ]
  },
  {
   "cell_type": "code",
   "execution_count": null,
   "id": "23e4d4ac",
   "metadata": {},
   "outputs": [],
   "source": [
    "# TwoPointsDE is a good suggested default for some of our typical use cases\n",
    "opt_class = ng.optimizers.TwoPointsDE\n",
    "orunner = optimize_model(bcm, opt_class=opt_class)"
   ]
  },
  {
   "cell_type": "code",
   "execution_count": null,
   "id": "c5b23cc2",
   "metadata": {},
   "outputs": [],
   "source": [
    "# You can also suggest starting points for the optimization (as well as specify an init method for unsuggested points)\n",
    "# This is the \"midpoint\" method by default (ie the 0.5 ppf of the prior distribution)\n",
    "orunner = optimize_model(bcm, opt_class=opt_class, suggested=defp, init_method=\"midpoint\")"
   ]
  },
  {
   "cell_type": "code",
   "execution_count": null,
   "id": "028f2b7f",
   "metadata": {},
   "outputs": [],
   "source": [
    "# Some optimizers have their own initiliazation routines which will override the settings to optimize_model\n",
    "# For example, the following optimizer performs a LHS search to select its initial points\n",
    "# opt_class = ng.families.DifferentialEvolution(initialization=\"LHS\", crossover=\"twopoints\")"
   ]
  },
  {
   "cell_type": "code",
   "execution_count": null,
   "id": "7314ff80",
   "metadata": {},
   "outputs": [],
   "source": [
    "# Here we run the optimizer in a loop, inspecting the current best point at each iteration\n",
    "# Using the loss information at each step can provide the basis for stopping conditions\n",
    "\n",
    "for i in range(8):\n",
    "    # Run the minimizer for a specified 'budget' (ie number of evaluations)\n",
    "    rec = orunner.minimize(100)\n",
    "    # Print the loss (objective function value) of the current recommended parameters\n",
    "    print(rec.loss)"
   ]
  },
  {
   "cell_type": "code",
   "execution_count": null,
   "id": "bf92c241",
   "metadata": {},
   "outputs": [],
   "source": [
    "mle_params = rec.value[1]\n",
    "mle_params"
   ]
  },
  {
   "cell_type": "code",
   "execution_count": null,
   "id": "a5f4318f",
   "metadata": {},
   "outputs": [],
   "source": [
    "# Run the model against the parameter estimates\n",
    "res = bcm.run(mle_params)"
   ]
  },
  {
   "cell_type": "code",
   "execution_count": null,
   "id": "eb65a8dc",
   "metadata": {},
   "outputs": [],
   "source": [
    "target = \"incidence\"\n",
    "\n",
    "# You can access the targets from the BCM\n",
    "bcm.targets[target].data.plot(style='.')\n",
    "res.derived_outputs[target].plot()"
   ]
  },
  {
   "cell_type": "code",
   "execution_count": null,
   "id": "f552b40c",
   "metadata": {},
   "outputs": [],
   "source": [
    "# Inspect the bias of the resulting output\n",
    "\n",
    "diff = (res.derived_outputs[target] - bcm.targets[target].data)\n",
    "print(diff.mean() / diff.std())\n",
    "diff.plot();"
   ]
  },
  {
   "attachments": {},
   "cell_type": "markdown",
   "id": "6f993558",
   "metadata": {},
   "source": [
    "# That's it!\n",
    "\n",
    "Try experimenting with different optimizers, and running with your own models,\n",
    "or use the MLE outputs as a starting point for further optimizations"
   ]
  }
 ],
 "metadata": {
  "kernelspec": {
   "display_name": "Python 3 (ipykernel)",
   "language": "python",
   "name": "python3"
  },
  "language_info": {
   "codemirror_mode": {
    "name": "ipython",
    "version": 3
   },
   "file_extension": ".py",
   "mimetype": "text/x-python",
   "name": "python",
   "nbconvert_exporter": "python",
   "pygments_lexer": "ipython3",
   "version": "3.10.10"
  }
 },
 "nbformat": 4,
 "nbformat_minor": 5
}
