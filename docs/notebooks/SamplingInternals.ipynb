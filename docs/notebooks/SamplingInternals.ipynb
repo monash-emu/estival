{
 "cells": [
  {
   "cell_type": "code",
   "execution_count": null,
   "id": "65212cf9",
   "metadata": {},
   "outputs": [],
   "source": [
    "# For use in google colab\n",
    "#!pip uninstall numba -y\n",
    "#!pip uninstall librosa -y\n",
    "#!pip install estival==0.4.8 numpy==1.24.3 nevergrad==0.6.0"
   ]
  },
  {
   "cell_type": "code",
   "execution_count": null,
   "id": "2f1caa52",
   "metadata": {},
   "outputs": [],
   "source": [
    "# Required for colab\n",
    "#import multiprocessing as mp\n",
    "#mp.set_start_method(\"forkserver\")"
   ]
  },
  {
   "cell_type": "code",
   "execution_count": null,
   "id": "2ab15058",
   "metadata": {},
   "outputs": [],
   "source": [
    "import numpy as np\n",
    "import pandas as pd\n",
    "\n",
    "from estival.model import BayesianCompartmentalModel\n",
    "from estival import priors as esp, targets as est\n",
    "\n",
    "from estival.sampling import tools as esamp\n",
    "from estival.sampling.tools import SampleIterator, SampleTypes\n",
    "\n",
    "from summer2.extras import test_models"
   ]
  },
  {
   "cell_type": "code",
   "execution_count": null,
   "id": "fbba8be1",
   "metadata": {},
   "outputs": [],
   "source": [
    "# Begin with a simple test model\n",
    "\n",
    "m = test_models.sir()"
   ]
  },
  {
   "cell_type": "code",
   "execution_count": null,
   "id": "082ef543",
   "metadata": {},
   "outputs": [],
   "source": [
    "defp = m.get_default_parameters()\n",
    "defp"
   ]
  },
  {
   "cell_type": "code",
   "execution_count": null,
   "id": "e2c03d71",
   "metadata": {},
   "outputs": [],
   "source": [
    "targetp = defp | {\"contact_rate\": 0.2}"
   ]
  },
  {
   "cell_type": "code",
   "execution_count": null,
   "id": "937d03f3",
   "metadata": {},
   "outputs": [],
   "source": [
    "m.run(targetp)\n",
    "m.get_derived_outputs_df()[\"notifications\"].plot()"
   ]
  },
  {
   "cell_type": "code",
   "execution_count": null,
   "id": "b304fb35",
   "metadata": {},
   "outputs": [],
   "source": [
    "m.run(defp | {\"contact_rate\": 0.2})\n",
    "targets = [est.NegativeBinomialTarget(\"notifications\", (np.exp(np.random.normal(0.0,0.03, size = (101,))) * m.get_derived_outputs_df()[\"notifications\"]).iloc[::7], 50.0)]"
   ]
  },
  {
   "cell_type": "code",
   "execution_count": null,
   "id": "dbed6c0a",
   "metadata": {},
   "outputs": [],
   "source": [
    "priors = [esp.UniformPrior(\"cdr\", (0.1,1.0)),\n",
    "          esp.UniformPrior(\"contact_rate\", (0.01,1.0)),\n",
    "         ]"
   ]
  },
  {
   "cell_type": "code",
   "execution_count": null,
   "id": "6a6a81cf",
   "metadata": {},
   "outputs": [],
   "source": [
    "bcm = BayesianCompartmentalModel(m, parameters=defp, targets=targets, priors=priors)"
   ]
  },
  {
   "cell_type": "code",
   "execution_count": null,
   "id": "b9555d7f",
   "metadata": {},
   "outputs": [],
   "source": [
    "from estival.sampling import tools as esamp"
   ]
  },
  {
   "cell_type": "code",
   "execution_count": null,
   "id": "e443b74b",
   "metadata": {},
   "outputs": [],
   "source": [
    "from estival.wrappers import nevergrad as eng\n",
    "import nevergrad as ng"
   ]
  },
  {
   "cell_type": "code",
   "execution_count": null,
   "id": "cc899d3f",
   "metadata": {},
   "outputs": [],
   "source": [
    "# Simple nevergrad optimizaton\n",
    "\n",
    "def optimize_ng(sample):\n",
    "    opt = eng.optimize_model(bcm, budget=100, opt_class=ng.optimizers.TwoPointsDE, suggested = sample, num_workers=4)\n",
    "    rec= opt.minimize(100)\n",
    "    return rec.value[1]"
   ]
  },
  {
   "cell_type": "code",
   "execution_count": null,
   "id": "6ea05870",
   "metadata": {},
   "outputs": [],
   "source": [
    "from estival.utils.parallel import map_parallel"
   ]
  },
  {
   "cell_type": "code",
   "execution_count": null,
   "id": "5cffd914",
   "metadata": {},
   "outputs": [],
   "source": [
    "from estival.utils.sample import SampleTypes"
   ]
  },
  {
   "cell_type": "code",
   "execution_count": null,
   "id": "eb3581f4",
   "metadata": {},
   "outputs": [],
   "source": [
    "# Sample 8 points from a Latin Hypercube, then run our nevergrad optimizer over each of them\n",
    "\n",
    "opt_samples = map_parallel(optimize_ng, bcm.sample.lhs(8, SampleTypes.LIST_OF_DICTS))"
   ]
  },
  {
   "cell_type": "code",
   "execution_count": null,
   "id": "a8ed7e38",
   "metadata": {},
   "outputs": [],
   "source": [
    "opt_samples"
   ]
  },
  {
   "cell_type": "code",
   "execution_count": null,
   "id": "37098c43",
   "metadata": {},
   "outputs": [],
   "source": [
    "# Version of the above function that retains indices - we'll see why this is useful soon\n",
    "\n",
    "def optimize_ng_with_idx(item):\n",
    "    idx, sample = item\n",
    "    opt = eng.optimize_model(bcm, budget=100, opt_class=ng.optimizers.TwoPointsDE, suggested = sample, num_workers=4)\n",
    "    rec= opt.minimize(100)\n",
    "    return idx, rec.value[1]"
   ]
  },
  {
   "cell_type": "code",
   "execution_count": null,
   "id": "4d084b4d",
   "metadata": {},
   "outputs": [],
   "source": [
    "lhs_samples = bcm.sample.lhs(16)"
   ]
  },
  {
   "cell_type": "code",
   "execution_count": null,
   "id": "3fdc9e6b",
   "metadata": {},
   "outputs": [],
   "source": [
    "lhs_samples"
   ]
  },
  {
   "cell_type": "code",
   "execution_count": null,
   "id": "761937e3",
   "metadata": {},
   "outputs": [],
   "source": [
    "lhs_lle = esamp.likelihood_extras_for_samples(lhs_samples, bcm)"
   ]
  },
  {
   "cell_type": "code",
   "execution_count": null,
   "id": "36169391",
   "metadata": {},
   "outputs": [],
   "source": [
    "lhs_sorted = lhs_lle.sort_values(\"loglikelihood\", ascending=False)\n",
    "lhs_sorted"
   ]
  },
  {
   "cell_type": "code",
   "execution_count": null,
   "id": "a0ae6eac",
   "metadata": {},
   "outputs": [],
   "source": [
    "best8 = lhs_samples[lhs_sorted.index].iloc[0:8]"
   ]
  },
  {
   "cell_type": "code",
   "execution_count": null,
   "id": "a4b8a506",
   "metadata": {},
   "outputs": [],
   "source": [
    "# Sample points inclusive of indices\n",
    "opt_samples_idx = map_parallel(optimize_ng_with_idx, best8.iterrows())"
   ]
  },
  {
   "cell_type": "code",
   "execution_count": null,
   "id": "eef5a72b",
   "metadata": {},
   "outputs": [],
   "source": [
    "opt_samples_idx"
   ]
  },
  {
   "cell_type": "code",
   "execution_count": null,
   "id": "e9ad2aa2",
   "metadata": {},
   "outputs": [],
   "source": [
    "# Get likelihood extras whose indices will be mapped 1:1 with the original pre-optimization samples\n",
    "\n",
    "lle_samps = esamp.likelihood_extras_for_samples(opt_samples_idx, bcm)\n",
    "lle_samps"
   ]
  },
  {
   "cell_type": "code",
   "execution_count": null,
   "id": "3e25caff",
   "metadata": {},
   "outputs": [],
   "source": [
    "best_opt_samps = bcm.sample.convert(opt_samples_idx)\n",
    "best_opt_samps"
   ]
  },
  {
   "cell_type": "code",
   "execution_count": null,
   "id": "623d83b6",
   "metadata": {},
   "outputs": [],
   "source": [
    "init_samps = best_opt_samps.iloc[0:4].convert(\"list_of_dicts\")\n",
    "init_samps"
   ]
  },
  {
   "cell_type": "code",
   "execution_count": null,
   "id": "4f07d1ff",
   "metadata": {},
   "outputs": [],
   "source": [
    "import pymc as pm\n",
    "from estival.wrappers import pymc as epm"
   ]
  },
  {
   "cell_type": "code",
   "execution_count": null,
   "id": "dba2c1bb",
   "metadata": {},
   "outputs": [],
   "source": [
    "with pm.Model() as model:\n",
    "    variables = epm.use_model(bcm)\n",
    "    idata = pm.sample(step=[pm.DEMetropolisZ(variables)],draws=1000, chains=4, initvals=init_samps)"
   ]
  },
  {
   "cell_type": "code",
   "execution_count": null,
   "id": "8097f1c4",
   "metadata": {},
   "outputs": [],
   "source": [
    "import arviz as az"
   ]
  },
  {
   "cell_type": "code",
   "execution_count": null,
   "id": "92f9596b",
   "metadata": {},
   "outputs": [],
   "source": [
    "az.summary(idata)"
   ]
  },
  {
   "cell_type": "code",
   "execution_count": null,
   "id": "0da5be76",
   "metadata": {},
   "outputs": [],
   "source": [
    "az.plot_trace(idata, compact=False);"
   ]
  },
  {
   "cell_type": "code",
   "execution_count": null,
   "id": "186bc97d",
   "metadata": {},
   "outputs": [],
   "source": [
    "# Much like like likelihood_extras_for_samples, likelihood_extras_for_idata\n",
    "# gives detailed likelihoods for the output of pm.sample\n",
    "# This will only sample the accepted runs and infill the rest of the data\n",
    "# It can only be used on complete (unburnt, unthinned) idata,\n",
    "# for anything else, use likelihood_extras_for_samples\n",
    "\n",
    "lle = esamp.likelihood_extras_for_idata(idata, bcm)"
   ]
  },
  {
   "cell_type": "code",
   "execution_count": null,
   "id": "a0fa3bcb",
   "metadata": {},
   "outputs": [],
   "source": [
    "# Check the per chain performance over time\n",
    "# We'll use a rolling mean to get a clearer picture\n",
    "\n",
    "lle[\"logposterior\"].unstack([\"chain\"]).rolling(100).mean().plot()"
   ]
  },
  {
   "cell_type": "code",
   "execution_count": null,
   "id": "9a669f2d",
   "metadata": {},
   "outputs": [],
   "source": [
    "# Get some randomly drawn samples for spaghetti plots\n",
    "sds = az.extract(idata, num_samples=20)"
   ]
  },
  {
   "cell_type": "code",
   "execution_count": null,
   "id": "cb7cf5ce",
   "metadata": {},
   "outputs": [],
   "source": [
    "spaghetti_res = esamp.model_results_for_samples(sds,bcm)"
   ]
  },
  {
   "cell_type": "code",
   "execution_count": null,
   "id": "0498d3de",
   "metadata": {},
   "outputs": [],
   "source": [
    "spaghetti_res.results[\"notifications\"].plot(legend=False)\n",
    "bcm.targets[\"notifications\"].data.plot(style='.',color=\"black\")"
   ]
  },
  {
   "cell_type": "code",
   "execution_count": null,
   "id": "f1500ec6",
   "metadata": {},
   "outputs": [],
   "source": [
    "# Extract a more comprehensive set of samples for uncertainty\n",
    "\n",
    "sds = az.extract(idata, num_samples=500)"
   ]
  },
  {
   "cell_type": "code",
   "execution_count": null,
   "id": "92cfc6ab",
   "metadata": {},
   "outputs": [],
   "source": [
    "# Internally, all estival methods will convert to a SampleIterator;\n",
    "# it is not necessary to do this manually, but we show it here for clarity\n",
    "\n",
    "bcm.sample.convert(sds)"
   ]
  },
  {
   "cell_type": "code",
   "execution_count": null,
   "id": "86b16cb6",
   "metadata": {},
   "outputs": [],
   "source": [
    "samp_res = esamp.model_results_for_samples(sds,bcm)"
   ]
  },
  {
   "cell_type": "code",
   "execution_count": null,
   "id": "6f1e5c2f",
   "metadata": {},
   "outputs": [],
   "source": [
    "quantiles = esamp.quantiles_for_results(samp_res.results, (0.05,0.25,0.5,0.75,0.95))"
   ]
  },
  {
   "cell_type": "code",
   "execution_count": null,
   "id": "cd99bb2a",
   "metadata": {},
   "outputs": [],
   "source": [
    "quantiles[\"notifications\"].plot()\n",
    "bcm.targets[\"notifications\"].data.plot(style='.',color=\"black\")"
   ]
  },
  {
   "cell_type": "code",
   "execution_count": null,
   "id": "118adf0d",
   "metadata": {},
   "outputs": [],
   "source": [
    "# Let's manually construct a SampleIterator to understand its internals a bit more...\n",
    "\n",
    "def generate_test_si_multiindex(n_chains=3, samples_per_chain=4):\n",
    "    n_samples = n_chains * samples_per_chain\n",
    "    index = pd.MultiIndex.from_product([range(n_chains), range(samples_per_chain)], names=[\"chain\", \"draw\"])  # type: ignore\n",
    "    components = {\n",
    "        \"a\": np.linspace(0.0, 1.0, n_samples),\n",
    "        \"b\": np.ones((n_samples, 5)) * 2.0,\n",
    "        \"c\": np.ones((n_samples, 10)) * 3.0,\n",
    "        \"d\": np.ones(n_samples) * 4.0,\n",
    "        \"e\": np.ones(n_samples) * 5.0,\n",
    "    }\n",
    "    return SampleIterator(components, index=index)\n"
   ]
  },
  {
   "cell_type": "code",
   "execution_count": null,
   "id": "67ceb1b5",
   "metadata": {},
   "outputs": [],
   "source": [
    "sim = generate_test_si_multiindex()"
   ]
  },
  {
   "cell_type": "code",
   "execution_count": null,
   "id": "7d08d232",
   "metadata": {},
   "outputs": [],
   "source": [
    "# It consists of an index...\n",
    "\n",
    "sim.index"
   ]
  },
  {
   "cell_type": "code",
   "execution_count": null,
   "id": "103b89bc",
   "metadata": {},
   "outputs": [],
   "source": [
    "# ...and some components (columns in a DataFrame, or data_vars in xarray)\n",
    "\n",
    "sim.components"
   ]
  },
  {
   "cell_type": "code",
   "execution_count": null,
   "id": "ac4fa901",
   "metadata": {},
   "outputs": [],
   "source": [
    "# Let's generate a much larger sample\n",
    "\n",
    "sim = generate_test_si_multiindex(16, 100000)\n",
    "sim_df = sim.convert(\"pandas\")"
   ]
  },
  {
   "cell_type": "code",
   "execution_count": null,
   "id": "73179785",
   "metadata": {},
   "outputs": [],
   "source": [
    "%%time\n",
    "sim_df.to_hdf(\"pdsamples_big.h5\",\"samples\")"
   ]
  },
  {
   "cell_type": "code",
   "execution_count": null,
   "id": "92bbdd84",
   "metadata": {},
   "outputs": [],
   "source": [
    "%%time\n",
    "sim.to_hdf5(\"sisamples_big.h5\")"
   ]
  },
  {
   "cell_type": "code",
   "execution_count": null,
   "id": "06a09067",
   "metadata": {},
   "outputs": [],
   "source": [
    "ls"
   ]
  },
  {
   "cell_type": "code",
   "execution_count": null,
   "id": "1b00c91f",
   "metadata": {},
   "outputs": [],
   "source": [
    "%%time\n",
    "sim_loaded = SampleIterator.read_hdf5(\"sisamples_big.h5\")"
   ]
  },
  {
   "cell_type": "code",
   "execution_count": null,
   "id": "67bb8933",
   "metadata": {},
   "outputs": [],
   "source": [
    "%%time\n",
    "df_loaded = pd.read_hdf(\"pdsamples_big.h5\",\"samples\")"
   ]
  },
  {
   "cell_type": "markdown",
   "id": "73e7f66a",
   "metadata": {},
   "source": [
    "# Sample based methods on BCM"
   ]
  },
  {
   "cell_type": "code",
   "execution_count": null,
   "id": "f63a3611",
   "metadata": {},
   "outputs": [],
   "source": [
    "# SamplePriorsManager is really an independent object that doesn't rely on having a CompartmentalModel\n",
    "\n",
    "bcm.sample"
   ]
  },
  {
   "cell_type": "code",
   "execution_count": null,
   "id": "677ea8a5",
   "metadata": {},
   "outputs": [],
   "source": [
    "spm = bcm.sample"
   ]
  },
  {
   "cell_type": "code",
   "execution_count": null,
   "id": "45832157",
   "metadata": {},
   "outputs": [],
   "source": [
    "spm.lhs(4)"
   ]
  },
  {
   "cell_type": "code",
   "execution_count": null,
   "id": "cbe960ab",
   "metadata": {},
   "outputs": [],
   "source": [
    "from estival.utils.sample import SampledPriorsManager"
   ]
  },
  {
   "cell_type": "code",
   "execution_count": null,
   "id": "5004ff25",
   "metadata": {},
   "outputs": [],
   "source": [
    "x = esp.GammaPrior.from_mode(\"x\", 2.5, 10.0)\n",
    "y = esp.UniformPrior(\"y\", [2.0, 4.0])"
   ]
  },
  {
   "cell_type": "code",
   "execution_count": null,
   "id": "ff5ffd8f",
   "metadata": {},
   "outputs": [],
   "source": [
    "x.get_series(\"pdf\").plot()"
   ]
  },
  {
   "cell_type": "code",
   "execution_count": null,
   "id": "892c5b76",
   "metadata": {},
   "outputs": [],
   "source": [
    "y.get_series(\"pdf\").plot()"
   ]
  },
  {
   "cell_type": "code",
   "execution_count": null,
   "id": "cb167614",
   "metadata": {},
   "outputs": [],
   "source": [
    "pdict = {\n",
    "    \"x\": x,\n",
    "    \"y\": y\n",
    "}"
   ]
  },
  {
   "cell_type": "code",
   "execution_count": null,
   "id": "5f3dd0ca",
   "metadata": {},
   "outputs": [],
   "source": [
    "spm = SampledPriorsManager(pdict)"
   ]
  },
  {
   "cell_type": "code",
   "execution_count": null,
   "id": "342bd52f",
   "metadata": {},
   "outputs": [],
   "source": [
    "# Sample generating methods"
   ]
  },
  {
   "cell_type": "code",
   "execution_count": null,
   "id": "2a551738",
   "metadata": {},
   "outputs": [],
   "source": [
    "from plotly import express as px"
   ]
  },
  {
   "cell_type": "code",
   "execution_count": null,
   "id": "1a28b23f",
   "metadata": {},
   "outputs": [],
   "source": [
    "px.scatter_matrix(spm.uniform(64, \"pandas\"))"
   ]
  },
  {
   "cell_type": "code",
   "execution_count": null,
   "id": "8297e86d",
   "metadata": {},
   "outputs": [],
   "source": [
    "px.scatter_matrix(spm.lhs(64, \"pandas\"))"
   ]
  },
  {
   "cell_type": "code",
   "execution_count": null,
   "id": "3e6fd507",
   "metadata": {},
   "outputs": [],
   "source": [
    "px.scatter_matrix(spm.sobol(64, \"pandas\"))"
   ]
  },
  {
   "cell_type": "code",
   "execution_count": null,
   "id": "8cdfc07d",
   "metadata": {},
   "outputs": [],
   "source": [
    "px.scatter_matrix(spm.sobol(64, \"pandas\", 0.5))"
   ]
  },
  {
   "cell_type": "code",
   "execution_count": null,
   "id": "cff48314",
   "metadata": {},
   "outputs": [],
   "source": [
    "sobol_samps = spm.sobol(512, \"pandas\", ci=0.5)"
   ]
  },
  {
   "cell_type": "code",
   "execution_count": null,
   "id": "fe515ada",
   "metadata": {},
   "outputs": [],
   "source": [
    "sobol_samps.hist()"
   ]
  },
  {
   "cell_type": "code",
   "execution_count": null,
   "id": "15effd84",
   "metadata": {},
   "outputs": [],
   "source": [
    "spm.cdf(sobol_samps).hist()"
   ]
  },
  {
   "cell_type": "code",
   "execution_count": null,
   "id": "991baf88",
   "metadata": {},
   "outputs": [],
   "source": [
    "spm.ppf(spm.cdf(sobol_samps))"
   ]
  }
 ],
 "metadata": {
  "kernelspec": {
   "display_name": "Python 3 (ipykernel)",
   "language": "python",
   "name": "python3"
  },
  "language_info": {
   "codemirror_mode": {
    "name": "ipython",
    "version": 3
   },
   "file_extension": ".py",
   "mimetype": "text/x-python",
   "name": "python",
   "nbconvert_exporter": "python",
   "pygments_lexer": "ipython3",
   "version": "3.10.10"
  }
 },
 "nbformat": 4,
 "nbformat_minor": 5
}
